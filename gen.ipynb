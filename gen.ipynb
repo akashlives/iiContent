{
 "cells": [
  {
   "cell_type": "markdown",
   "metadata": {},
   "source": [
    "## Gen by IICONTENT\n",
    "##### Author - Akash Shetty\n",
    "\n",
    "This notebook shows the implementation of the following features -\n",
    "\n",
    "1. Gemini Initialization\n",
    "2. Function Calling with Gemini\n",
    "3. Integration </br>\n",
    "    i. Google Docs </br>\n",
    "    ii. Google Speech to Text </br>\n",
    "4. Create Jira ticket via Gemini Function Calling"
   ]
  },
  {
   "cell_type": "markdown",
   "metadata": {},
   "source": [
    "### Gemini Initialization\n",
    "\n",
    "Here I initialize Gemini with Vertex AI and test where gemini chat works."
   ]
  },
  {
   "cell_type": "code",
   "execution_count": 4,
   "metadata": {},
   "outputs": [],
   "source": [
    "import vertexai\n",
    "\n",
    "PROJECT_ID = \"project_id\" # Replace with your project ID\n",
    "LOCATION = 'us-central1'\n",
    "vertexai.init(project=PROJECT_ID, location=LOCATION)"
   ]
  },
  {
   "cell_type": "code",
   "execution_count": 9,
   "metadata": {},
   "outputs": [
    {
     "name": "stdout",
     "output_type": "stream",
     "text": [
      "Hello there. How are you doing today?\n",
      "The traditional order of the colors in a rainbow is:\n",
      "\n",
      "1. Red\n",
      "2. Orange\n",
      "3. Yellow\n",
      "4. Green\n",
      "5. Blue\n",
      "6. Indigo\n",
      "7. Violet\n",
      "\n",
      "However, some people also include pink and turquoise in their lists of rainbow colors.\n"
     ]
    }
   ],
   "source": [
    "from vertexai.generative_models import GenerativeModel, ChatSession \n",
    "\n",
    "model = GenerativeModel(\n",
    "    \"gemini-1.0-pro-001\")\n",
    "\n",
    "chat = model.start_chat()\n",
    "\n",
    "def get_chat_response(chat: ChatSession, prompt: str) -> str:\n",
    "    text_response = []\n",
    "    responses = chat.send_message(prompt, stream=True)\n",
    "    for chunk in responses:\n",
    "        text_response.append(chunk.text)\n",
    "    return \"\".join(text_response)\n",
    "\n",
    "prompt = \"Hello.\"\n",
    "print(get_chat_response(chat, prompt))\n",
    "\n",
    "prompt = \"What are all the colors in a rainbow?\"\n",
    "print(get_chat_response(chat, prompt))"
   ]
  },
  {
   "cell_type": "markdown",
   "metadata": {},
   "source": [
    "### Function Calling with Gemini\n",
    "\n",
    "Here I test using gemini to use function as api. The function used is to square give number.\n"
   ]
  },
  {
   "cell_type": "code",
   "execution_count": 10,
   "metadata": {},
   "outputs": [],
   "source": [
    "from vertexai.generative_models import (\n",
    "    Content,\n",
    "    FunctionDeclaration,\n",
    "    GenerationConfig,\n",
    "    GenerativeModel,\n",
    "    Part,\n",
    "    Tool,\n",
    ")"
   ]
  },
  {
   "cell_type": "code",
   "execution_count": 11,
   "metadata": {},
   "outputs": [],
   "source": [
    "square_number = FunctionDeclaration(\n",
    "    name = \"square_number\",\n",
    "    description = \"Square any given number\",\n",
    "    parameters={\n",
    "        \"type\": \"object\",\n",
    "        \"properties\": {\n",
    "            \"number\": {\"type\": \"string\", \"description\": \"The number to square\"},\n",
    "        },\n",
    "        },\n",
    ")\n",
    "\n",
    "square_tool = Tool(\n",
    "    function_declarations=[square_number],\n",
    ")\n",
    "\n",
    "def square_number(params):\n",
    "    \"\"\"\n",
    "    Calculates the square of a given number.\n",
    "\n",
    "    Args:\n",
    "        params (dict): A dictionary containing the 'number' parameter.\n",
    "\n",
    "    Returns:\n",
    "        int: The square of the given number.\n",
    "    \"\"\"\n",
    "    number = int(params['number'])\n",
    "    return number ** 2\n"
   ]
  },
  {
   "cell_type": "code",
   "execution_count": 15,
   "metadata": {},
   "outputs": [
    {
     "name": "stdout",
     "output_type": "stream",
     "text": [
      "\n",
      "\n",
      "      Output from JSON Extraction\n",
      "      \n",
      "\n",
      "function_call {\n",
      "  name: \"square_number\"\n",
      "  args {\n",
      "    fields {\n",
      "      key: \"number\"\n",
      "      value {\n",
      "        string_value: \"5\"\n",
      "      }\n",
      "    }\n",
      "  }\n",
      "}\n",
      "\n",
      "\n",
      "\n",
      "      Output from params\n",
      "      \n",
      "\n",
      "{'number': '5'}\n",
      "\n",
      "\n",
      "      Output from function calling\n",
      "      \n",
      "\n",
      "The square of 5 is 25. This is because when you multiply a number by itself, you are essentially adding it to itself that many times. For example, 5 squared is 5 * 5, which is 25.\n"
     ]
    }
   ],
   "source": [
    "model = GenerativeModel(\n",
    "    \"gemini-1.0-pro-001\",\n",
    "    generation_config=GenerationConfig(temperature=0),\n",
    "    tools=[square_tool],\n",
    ")\n",
    "chat = model.start_chat()\n",
    "\n",
    "prompt = \"\"\"\n",
    "Square number 5\n",
    "\"\"\"\n",
    "\n",
    "response = chat.send_message(prompt)\n",
    "print(\"\"\"\\n\n",
    "      Output from JSON Extraction\n",
    "      \\n\"\"\")\n",
    "print(response.candidates[0].content.parts[0])\n",
    "\n",
    "params = {}\n",
    "for key, value in response.candidates[0].content.parts[0].function_call.args.items():\n",
    "    params[key] = value\n",
    "\n",
    "print(\"\"\"\\n\n",
    "      Output from params\n",
    "      \\n\"\"\")\n",
    "print(params)\n",
    "\n",
    "response = model.generate_content(\n",
    "    [\n",
    "    Content(role=\"user\", parts=[\n",
    "        Part.from_text(prompt + \"\"\"Square of given number, explain reasoning\"\"\"),\n",
    "    ]),\n",
    "    Content(role=\"function\", parts=[\n",
    "        Part.from_dict({\n",
    "            \"function_call\": {\n",
    "                \"name\": \"square_number\"\n",
    "            }\n",
    "        })\n",
    "    ]),\n",
    "    Content(role=\"function\", parts=[\n",
    "        Part.from_function_response(\n",
    "            name=\"square_number\",\n",
    "            response={\n",
    "                \"content\": square_number(params)\n",
    "            }\n",
    "        )\n",
    "    ]),\n",
    "    ],\n",
    "    tools=[square_tool],\n",
    ")\n",
    "\n",
    "print(\"\"\"\\n\n",
    "      Output from function calling\n",
    "      \\n\"\"\")\n",
    "print(response.candidates[0].content.parts[0].text)"
   ]
  },
  {
   "cell_type": "markdown",
   "metadata": {},
   "source": [
    "### Integration \n",
    "\n",
    "\n",
    "#### Google Docs -\n",
    "Here I show to extract data from google doc. And use Gemini to summarize document. You need oauth2 for google docs api."
   ]
  },
  {
   "cell_type": "code",
   "execution_count": 28,
   "metadata": {},
   "outputs": [],
   "source": [
    "from google.auth.transport.requests import Request\n",
    "from google.oauth2.credentials import Credentials\n",
    "from google_auth_oauthlib.flow import InstalledAppFlow\n",
    "from googleapiclient.discovery import build\n",
    "\n",
    "\n",
    "SCOPES = ['https://www.googleapis.com/auth/documents.readonly']\n",
    "\n",
    "def auth_and_get_service():\n",
    "    creds = None\n",
    "    try:\n",
    "        creds = Credentials.from_authorized_user_file('token.json', SCOPES)\n",
    "    except:\n",
    "        pass\n",
    "    if not creds or not creds.valid:\n",
    "        if creds and creds.expired and creds.refresh_token:\n",
    "            creds.refresh(Request())\n",
    "        else:\n",
    "            flow = InstalledAppFlow.from_client_secrets_file(\n",
    "                'credentials.json', SCOPES)\n",
    "            flow.run_local_server(prompt='select_account')\n",
    "            creds = flow.credentials\n",
    "        # Save the credentials for the next run\n",
    "        with open('token.json', 'w') as token:\n",
    "            token.write(creds.to_json())\n",
    "\n",
    "    service = build('docs', 'v1', credentials=creds)\n",
    "    return service\n",
    "\n",
    "def get_document_text(document_id):\n",
    "    service = auth_and_get_service()\n",
    "    document = service.documents().get(documentId=document_id).execute()\n",
    "    return document"
   ]
  },
  {
   "cell_type": "code",
   "execution_count": 37,
   "metadata": {},
   "outputs": [],
   "source": [
    "d = get_document_text(\"1Nkq5r7WTT0kQ1rDq0UlYOjR_s8rLxCpmWuk3WNhtPko\")"
   ]
  },
  {
   "cell_type": "code",
   "execution_count": 33,
   "metadata": {},
   "outputs": [
    {
     "name": "stdout",
     "output_type": "stream",
     "text": [
      "\n",
      "Project Planning Document\n",
      "1. Project Overview\n",
      "Project Title: Development of an AI-Based Recommendation System for E-Commerce\n",
      "Description: This project aims to design and implement an artificial intelligence (AI) powered recommendation system for an e-commerce website. The system will leverage machine learning algorithms to analyze user behavior and product data to provide personalized product recommendations, thereby enhancing user experience and boosting sales.\n",
      "2. Project Objectives\n",
      "To increase customer engagement by providing personalized product recommendations.\n",
      "To improve the conversion rate and average order value through targeted recommendations.\n",
      "To enhance the user interface with seamless integration of recommendation features.\n",
      "3. Project Scope\n",
      "Data collection and preprocessing from existing e-commerce platforms.\n",
      "Development of machine learning models for recommendation.\n",
      "Integration of the recommendation system into the current e-commerce platform.\n",
      "Testing and optimization based on user feedback and system performance.\n",
      "4. Stakeholders\n",
      "Project Manager\n",
      "Data Science Team\n",
      "Web Development Team\n",
      "Marketing Department\n",
      "Quality Assurance Team\n",
      "Customer Support\n",
      "5. Project Phases and Schedule\n",
      "Phase 1: Requirement Analysis and Planning\n",
      "Priority: High\u000bDepartment: Project Management and Data Science\u000bStart Date: 2024-05-15\u000bDue Date: 2024-05-30\u000bDescription: Define project scope, objectives, and gather requirements. Perform feasibility study and resource allocation.\n",
      "Phase 2: Data Preparation\n",
      "Priority: High\u000bDepartment: Data Science\u000bStart Date: 2024-06-01\u000bDue Date: 2024-07-15\u000bDescription: Collect and preprocess data, including user interaction data and product catalogs. Establish data pipelines for continuous learning of the recommendation model.\n",
      "Phase 3: Model Development\n",
      "Priority: High\u000bDepartment: Data Science\u000bStart Date: 2024-07-16\u000bDue Date: 2024-09-30\u000bDescription: Develop and train machine learning algorithms for product recommendation. Evaluate model performance and iterate to improve accuracy.\n",
      "Phase 4: System Integration and Testing\n",
      "Priority: Medium\u000bDepartment: Web Development and Quality Assurance\u000bStart Date: 2024-10-01\u000bDue Date: 2024-11-15\u000bDescription: Integrate the recommendation engine into the existing e-commerce platform. Conduct thorough testing to ensure functionality and performance.\n",
      "Phase 5: Launch and Optimization\n",
      "Priority: Medium\u000bDepartment: Marketing and Web Development\u000bStart Date: 2024-11-16\u000bDue Date: 2024-12-15\u000bDescription: Launch the recommendation system to the public. Monitor system performance and user feedback. Optimize the recommendation algorithms based on real-world data and marketing insights.\n",
      "Phase 6: Maintenance and Upgrades\n",
      "Priority: Low\u000bDepartment: IT Support and Data Science\u000bStart Date: 2024-12-16\u000bDue Date: Ongoing\u000bDescription: Provide ongoing maintenance and periodic updates to the recommendation system to adapt to new trends and technologies.\n",
      "6. Budget and Resource Allocation\n",
      "Detailed budget planning and resource allocation will be conducted for each phase, ensuring efficient use of resources and adherence to financial constraints.\n",
      "7. Risks and Mitigation Strategies\n",
      "Risk: Data privacy concerns.\u000bMitigation: Implement strict data governance policies and ensure compliance with data protection regulations.\n",
      "Risk: Inaccurate recommendations due to poor data quality.\u000bMitigation: Invest in robust data cleaning processes and enhance data collection strategies.\n",
      "Risk: Technology integration complexities.\u000bMitigation: Engage experienced developers and conduct integration tests regularly.\n",
      "8. Conclusion\n",
      "This document outlines the preliminary plan for developing and implementing an AI-based recommendation system for an e-commerce website. The project is structured into distinct phases with specific goals, deadlines, and responsible departments to ensure successful completion and operational excellence.\n",
      "\n",
      "\n"
     ]
    }
   ],
   "source": [
    "def extract_text_from_content(content):\n",
    "    text = \"\"\n",
    "    # Access the body and content safely using get, with default empty values where needed\n",
    "    for element in content.get('body', {}).get('content', []):\n",
    "        if 'paragraph' in element:  # Check for paragraph element\n",
    "            for elem in element['paragraph'].get('elements', []):  # Safely access paragraph elements\n",
    "                if 'textRun' in elem:\n",
    "                    text += elem['textRun'].get('content', '')  # Correctly access the text content and handle cases where content might be missing\n",
    "    return text\n",
    "\n",
    "print(extract_text_from_content(d))"
   ]
  },
  {
   "cell_type": "code",
   "execution_count": 38,
   "metadata": {},
   "outputs": [
    {
     "name": "stdout",
     "output_type": "stream",
     "text": [
      "**Jira Ticket: Development of an AI Recommendation System for E-Commerce**\n",
      "\n",
      "**Acceptance Criteria:**\n",
      "\n",
      "* **Phase 1: Requirement Analysis and Planning**\n",
      "    * Project scope, objectives, and requirements defined\n",
      "    * Feasibility study and resource allocation performed\n",
      "\n",
      "* **Phase 2: Data Preparation**\n",
      "    * User interaction data and product catalogs collected and preprocessed\n",
      "    * Continuous data pipelines established\n",
      "\n",
      "* **Phase 3: Model Development**\n",
      "    * ML algorithms developed and trained for recommendation\n",
      "    * Model performance evaluated and iterated for accuracy\n",
      "\n",
      "* **Phase 4: System Integration and Testing**\n",
      "    * Recommendation engine integrated into e-commerce platform\n",
      "    * Functionality and performance thoroughly tested\n",
      "\n",
      "* **Phase 5: Launch and Optimization**\n",
      "    * Recommendation system launched publicly\n",
      "    * System performance and user feedback monitored\n",
      "    * Recommendation algorithms optimized based on data and marketing insights\n",
      "\n",
      "* **Phase 6: Maintenance and Upgrades**\n",
      "    * Recommendation system maintained and periodically updated\n",
      "    * Adaptations to trends and technologies incorporated\n"
     ]
    }
   ],
   "source": [
    "model = GenerativeModel(\n",
    "    \"gemini-1.0-pro-001\")\n",
    "\n",
    "chat = model.start_chat(response_validation=False)\n",
    "\n",
    "prompt = \"Summarize the document for jira ticket with Acceptance Criteria\" + extract_text_from_content(d) \n",
    "print(get_chat_response(chat, prompt))"
   ]
  },
  {
   "cell_type": "markdown",
   "metadata": {},
   "source": [
    "### Google Speech to Text\n",
    "This module was used for convert speech to text, and then the text_blob is summarized using gemini."
   ]
  },
  {
   "cell_type": "code",
   "execution_count": 39,
   "metadata": {},
   "outputs": [
    {
     "name": "stdout",
     "output_type": "stream",
     "text": [
      "Waiting for operation to complete...\n",
      "Transcript: hi I'm my name is Akash I'm working on the Google hackathon for this recording this audio basically I want to create a project for recommendation system this has to be work by the machine learning team\n",
      "Transcript:  I will be working with the front end developers and back in the flippers on this project\n"
     ]
    }
   ],
   "source": [
    "import base64\n",
    "import subprocess\n",
    "def m4a_to_base64(m4a_path):\n",
    "    # Convert M4A to a compatible WAV format using ffmpeg\n",
    "    command = ['ffmpeg', '-i', m4a_path, '-acodec', 'pcm_s16le', '-ar', '16000', '-ac', '1', '-f', 'wav', 'pipe:1']\n",
    "    wav_data = subprocess.run(command, stdout=subprocess.PIPE, stderr=subprocess.PIPE)\n",
    "\n",
    "    # Encode the WAV binary data to base64\n",
    "    base64_encoded_data = base64.b64encode(wav_data.stdout)\n",
    "    return base64_encoded_data.decode('utf-8')\n",
    "\n",
    "from google.cloud import speech\n",
    "\n",
    "# Instantiates a client\n",
    "client = speech.SpeechClient()\n",
    "\n",
    "# The content of the audio file to transcribe\n",
    "audio_content = m4a_to_base64(\"test_audio.m4a\")\n",
    "\n",
    "# transcribe speech\n",
    "audio = speech.RecognitionAudio(content=audio_content)\n",
    "\n",
    "config = speech.RecognitionConfig(\n",
    "    encoding=speech.RecognitionConfig.AudioEncoding.LINEAR16,\n",
    "    sample_rate_hertz=16000,\n",
    "    language_code=\"en-US\",\n",
    "    model=\"default\",\n",
    "    audio_channel_count=1,\n",
    "    enable_word_confidence=True,\n",
    "    enable_word_time_offsets=True,\n",
    ")\n",
    "\n",
    "# Detects speech in the audio file\n",
    "operation = client.long_running_recognize(config=config, audio=audio)\n",
    "\n",
    "print(\"Waiting for operation to complete...\")\n",
    "response = operation.result(timeout=90)\n",
    "\n",
    "for result in response.results:\n",
    "  print(\"Transcript: {}\".format(result.alternatives[0].transcript))"
   ]
  },
  {
   "cell_type": "code",
   "execution_count": 40,
   "metadata": {},
   "outputs": [
    {
     "name": "stdout",
     "output_type": "stream",
     "text": [
      "**Summary:**\n",
      "\n",
      "I will collaborate with frontend and backend developers on a project involving flippers.\n",
      "\n",
      "**Acceptance Criteria:**\n",
      "\n",
      "* [ ] Define the technical requirements with the frontend developers and back in the flippers.\n",
      "* [ ] Implement the frontend and backend components as per the agreed requirements.\n",
      "* [ ] Ensure seamless integration and communication between both teams throughout the project.\n",
      "* [ ] Deliver a fully functional flipper solution that meets the specifications.\n"
     ]
    }
   ],
   "source": [
    "model = GenerativeModel(\n",
    "    \"gemini-1.0-pro-001\")\n",
    "\n",
    "chat = model.start_chat(response_validation=False)\n",
    "\n",
    "prompt = \"Summarize the text for jira ticket with Acceptance Criteria\" + result.alternatives[0].transcript\n",
    "print(get_chat_response(chat, prompt))"
   ]
  },
  {
   "cell_type": "markdown",
   "metadata": {},
   "source": [
    "### Jira Integration\n",
    "\n",
    "This can be created using the Jira API. The API documentation can be found at https://developer.atlassian.com/cloud/jira/platform/rest/v3/api-group-issues/#api-rest-api-3-issue-post.\n",
    "\n",
    "\n",
    "Initiate the Gemini Jira function and call `gemini_jira(prompt)`\n",
    "    "
   ]
  },
  {
   "cell_type": "code",
   "execution_count": 41,
   "metadata": {},
   "outputs": [],
   "source": [
    "# Code not provided in the notebook\n",
    "def create_jira_ticket(ticket_details):\n",
    "    \"\"\"\n",
    "    Creates a Jira ticket with the provided ticket details.\n",
    "\n",
    "    Args:\n",
    "        ticket_details (dict): A dictionary containing the ticket details.\n",
    "            The dictionary should have the following keys:\n",
    "            - project_key (str): The key of the project where the ticket will be created.\n",
    "            - summary (str): The summary of the ticket.\n",
    "            - issuetype (str): The type of the issue.\n",
    "            - assignee (str): The ID of the assignee.\n",
    "            - reporter (str): The ID of the reporter.\n",
    "            - priority (str): The priority of the ticket.\n",
    "            - labels (list): A list of labels for the ticket.\n",
    "            - due_date (str): The due date of the ticket.\n",
    "            - start_date (str): The start date of the ticket.\n",
    "            - category (str): The category of the ticket.\n",
    "            - description (str): The description of the ticket.\n",
    "\n",
    "    Returns:\n",
    "        dict: A dictionary containing the response from the Jira API if the ticket is created successfully.\n",
    "\n",
    "    Raises:\n",
    "        HTTPError: If there is an error while creating the ticket.\n",
    "    \"\"\"\n",
    "    raise NotImplementedError"
   ]
  },
  {
   "cell_type": "code",
   "execution_count": 42,
   "metadata": {},
   "outputs": [],
   "source": [
    "jira_create_issue = FunctionDeclaration(\n",
    "    name = \"jira_create_issue\",\n",
    "    description = \"Create a new Jira issue\",\n",
    "    parameters={\n",
    "        \"type\": \"object\",\n",
    "        \"properties\": {\n",
    "            \"summary\": {\"type\": \"string\", \"description\": \"Summary of the issue\"},\n",
    "            \"priority_id\": {\"type\": \"string\", \"description\": \"ID of the priority level, With 1 as Highest and 5 as Lowest\"},\n",
    "            \"labels\": {\"type\": \"array\", \"description\": \"List of labels associated with the issue\"},\n",
    "            \"due_date\": {\"type\": \"string\", \"description\": \"Due date of the issue\"},\n",
    "            \"start_date\": {\"type\": \"string\", \"description\": \"Start date of the issue\"},\n",
    "            \"description\": {\"type\": \"string\", \"description\": \"Description of the issue\"},\n",
    "        },\n",
    "        },\n",
    ")"
   ]
  },
  {
   "cell_type": "code",
   "execution_count": 43,
   "metadata": {},
   "outputs": [],
   "source": [
    "jira_tool = Tool(\n",
    "    function_declarations=[jira_create_issue],\n",
    ")"
   ]
  },
  {
   "cell_type": "code",
   "execution_count": 44,
   "metadata": {},
   "outputs": [],
   "source": [
    "model = GenerativeModel(\n",
    "    \"gemini-1.0-pro-001\",\n",
    "    generation_config=GenerationConfig(temperature=0),\n",
    "    tools=[jira_tool],\n",
    ")\n",
    "chat = model.start_chat()"
   ]
  },
  {
   "cell_type": "code",
   "execution_count": 45,
   "metadata": {},
   "outputs": [
    {
     "data": {
      "text/plain": [
       "function_call {\n",
       "  name: \"jira_create_issue\"\n",
       "  args {\n",
       "    fields {\n",
       "      key: \"summary\"\n",
       "      value {\n",
       "        string_value: \"Website Crash on Checkout\"\n",
       "      }\n",
       "    }\n",
       "    fields {\n",
       "      key: \"priority_id\"\n",
       "      value {\n",
       "        string_value: \"1\"\n",
       "      }\n",
       "    }\n",
       "    fields {\n",
       "      key: \"labels\"\n",
       "      value {\n",
       "        list_value {\n",
       "          values {\n",
       "            string_value: \"Front-End\"\n",
       "          }\n",
       "        }\n",
       "      }\n",
       "    }\n",
       "    fields {\n",
       "      key: \"due_date\"\n",
       "      value {\n",
       "        string_value: \"2024-05-01\"\n",
       "      }\n",
       "    }\n",
       "    fields {\n",
       "      key: \"description\"\n",
       "      value {\n",
       "        string_value: \"The checkout process on our website is crashing when users select the express shipping option. The error message displayed is \\'502 Bad Gateway\\'.\"\n",
       "      }\n",
       "    }\n",
       "  }\n",
       "}"
      ]
     },
     "execution_count": 45,
     "metadata": {},
     "output_type": "execute_result"
    }
   ],
   "source": [
    "prompt = \"\"\"\n",
    "Subject: Urgent: Website Crash on Checkout\n",
    "\n",
    "Hi Team,\n",
    "\n",
    "I noticed this morning that the checkout process on our website is crashing when users select the express shipping option. This is critical as it affects all users trying to place orders with express delivery.\n",
    "\n",
    "Please address this issue as a priority. The error message displayed is \"502 Bad Gateway\". \n",
    "With Due Date: 2024-05-01\n",
    "Label - Front-End\n",
    "\n",
    "Best,\n",
    "John\n",
    "\"\"\"\n",
    "\n",
    "response = chat.send_message(prompt)\n",
    "response.candidates[0].content.parts[0]"
   ]
  },
  {
   "cell_type": "code",
   "execution_count": 46,
   "metadata": {},
   "outputs": [
    {
     "data": {
      "text/plain": [
       "{'priority_id': '1',\n",
       " 'due_date': '2024-05-01',\n",
       " 'description': \"The checkout process on our website is crashing when users select the express shipping option. The error message displayed is '502 Bad Gateway'.\",\n",
       " 'summary': 'Website Crash on Checkout',\n",
       " 'labels': ['Front-End']}"
      ]
     },
     "execution_count": 46,
     "metadata": {},
     "output_type": "execute_result"
    }
   ],
   "source": [
    "params = {}\n",
    "for key, value in response.candidates[0].content.parts[0].function_call.args.items():\n",
    "    params[key] = value\n",
    "\n",
    "params"
   ]
  },
  {
   "cell_type": "code",
   "execution_count": 47,
   "metadata": {},
   "outputs": [],
   "source": [
    "api_response = {\n",
    "    \"id\": \"10018\",\n",
    "    \"key\": \"GEN-15\",\n",
    "    \"self\": \"https://placeholder.atlassian.net/rest/api/3/issue/10018\"\n",
    "}"
   ]
  },
  {
   "cell_type": "code",
   "execution_count": 51,
   "metadata": {},
   "outputs": [
    {
     "name": "stdout",
     "output_type": "stream",
     "text": [
      "OK. I have created a ticket for this issue with the ID GEN-15. \n",
      "\n",
      "**Description**: The checkout process on our website is crashing when users select the express shipping option. This affects all users trying to place orders with express delivery. The error message displayed is \"502 Bad Gateway\".\n",
      "\n",
      "**Acceptance Criteria**:\n",
      "- The checkout process should not crash when users select the express shipping option.\n",
      "- The error message \"502 Bad Gateway\" should not be displayed.\n",
      "\n",
      "**Priority**: High\n",
      "**Due Date**: 2024-05-01\n",
      "**Labels**: Front-End\n",
      "\n",
      "I have assigned this ticket to the Front-End team. Please let me know if you have any questions.\n"
     ]
    }
   ],
   "source": [
    "response = model.generate_content(\n",
    "    [\n",
    "    Content(role=\"user\", parts=[\n",
    "        Part.from_text(prompt + \"\"\"Describe Ticket with Acceptance Criteria for Front End, explain reasoning\"\"\"),\n",
    "    ]),\n",
    "    Content(role=\"function\", parts=[\n",
    "        Part.from_dict({\n",
    "            \"function_call\": {\n",
    "                \"name\": \"jira_create_issue\"\n",
    "            }\n",
    "        })\n",
    "    ]),\n",
    "    Content(role=\"function\", parts=[\n",
    "        Part.from_function_response(\n",
    "            name=\"jira_create_issue\",\n",
    "            response={\n",
    "                \"content\": api_response\n",
    "            }\n",
    "        )\n",
    "    ]),\n",
    "    ],\n",
    "    tools=[jira_tool],\n",
    ")\n",
    "\n",
    "print(response.candidates[0].content.parts[0].text)"
   ]
  },
  {
   "cell_type": "code",
   "execution_count": 54,
   "metadata": {},
   "outputs": [],
   "source": [
    "def gemini_jira(prompt):\n",
    "    model = GenerativeModel(\n",
    "        \"gemini-1.0-pro-001\",\n",
    "        generation_config=GenerationConfig(temperature=0),\n",
    "        tools=[jira_tool],\n",
    "    )\n",
    "    chat = model.start_chat()\n",
    "    response = chat.send_message(prompt)\n",
    "    params = {}\n",
    "    for key, value in response.candidates[0].content.parts[0].function_call.args.items():\n",
    "        params[key] = value\n",
    "    response = model.generate_content(\n",
    "        [\n",
    "        Content(role=\"user\", parts=[\n",
    "            Part.from_text(prompt + \"\"\"Describe Ticket with Acceptance Criteria for Front End, explain reasoning\"\"\"),\n",
    "        ]),\n",
    "        Content(role=\"function\", parts=[\n",
    "            Part.from_dict({\n",
    "                \"function_call\": {\n",
    "                    \"name\": \"jira_create_issue\"\n",
    "                }\n",
    "            })\n",
    "        ]),\n",
    "        Content(role=\"function\", parts=[\n",
    "            Part.from_function_response(\n",
    "                name=\"jira_create_issue\",\n",
    "                response={\n",
    "                    \"content\": api_response\n",
    "                }\n",
    "            )\n",
    "        ]),\n",
    "        ],\n",
    "        tools=[jira_tool],\n",
    "    )\n",
    "\n",
    "    return response.candidates[0].content.parts[0].text"
   ]
  },
  {
   "cell_type": "code",
   "execution_count": 56,
   "metadata": {},
   "outputs": [
    {
     "name": "stdout",
     "output_type": "stream",
     "text": [
      "OK. I have created a ticket for this issue with the ID GEN-15. \n",
      "\n",
      "**Description**: The checkout process on our website is crashing when users select the express shipping option. This affects all users trying to place orders with express delivery. The error message displayed is \"502 Bad Gateway\".\n",
      "\n",
      "**Acceptance Criteria**:\n",
      "- The checkout process should not crash when users select the express shipping option.\n",
      "- The error message \"502 Bad Gateway\" should not be displayed.\n",
      "\n",
      "**Priority**: High\n",
      "**Due Date**: 2024-05-01\n",
      "**Labels**: Front-End\n",
      "\n",
      "I have assigned this ticket to the Front-End team. Please let me know if you have any questions.\n"
     ]
    }
   ],
   "source": [
    "prompt = \"\"\"\n",
    "Subject: Urgent: Website Crash on Checkout\n",
    "\n",
    "Hi Team,\n",
    "\n",
    "I noticed this morning that the checkout process on our website is crashing when users select the express shipping option. This is critical as it affects all users trying to place orders with express delivery.\n",
    "\n",
    "Please address this issue as a priority. The error message displayed is \"502 Bad Gateway\". \n",
    "With Due Date: 2024-05-01\n",
    "Label - Front-End\n",
    "\n",
    "Best,\n",
    "John\n",
    "\"\"\"\n",
    "print(gemini_jira(prompt))"
   ]
  },
  {
   "cell_type": "markdown",
   "metadata": {},
   "source": []
  },
  {
   "cell_type": "code",
   "execution_count": null,
   "metadata": {},
   "outputs": [],
   "source": []
  }
 ],
 "metadata": {
  "kernelspec": {
   "display_name": "iicontent",
   "language": "python",
   "name": "python3"
  },
  "language_info": {
   "codemirror_mode": {
    "name": "ipython",
    "version": 3
   },
   "file_extension": ".py",
   "mimetype": "text/x-python",
   "name": "python",
   "nbconvert_exporter": "python",
   "pygments_lexer": "ipython3",
   "version": "3.12.2"
  }
 },
 "nbformat": 4,
 "nbformat_minor": 2
}
